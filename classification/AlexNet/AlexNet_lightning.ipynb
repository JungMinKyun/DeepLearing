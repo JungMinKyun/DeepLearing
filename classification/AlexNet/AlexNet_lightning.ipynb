{
 "cells": [
  {
   "cell_type": "code",
   "execution_count": 3,
   "metadata": {},
   "outputs": [
    {
     "name": "stderr",
     "output_type": "stream",
     "text": [
      "Seed set to 0\n"
     ]
    },
    {
     "data": {
      "text/plain": [
       "0"
      ]
     },
     "execution_count": 3,
     "metadata": {},
     "output_type": "execute_result"
    }
   ],
   "source": [
    "import torch\n",
    "import torch.nn as nn\n",
    "import torch.optim as optim\n",
    "import torch.nn.functional as F\n",
    "import torchmetrics\n",
    "from torchvision import datasets, transforms\n",
    "from torch.utils.data import DataLoader, random_split\n",
    "\n",
    "import pytorch_lightning as pl\n",
    "from pytorch_lightning.callbacks import ModelCheckpoint\n",
    "from pytorch_lightning.callbacks.early_stopping import EarlyStopping\n",
    "from pytorch_lightning.loggers import CSVLogger\n",
    "\n",
    "import os\n",
    "import time\n",
    "import pandas as pd\n",
    "import numpy as np\n",
    "import matplotlib.pyplot as plt\n",
    "\n",
    "pl.seed_everything(0)"
   ]
  },
  {
   "cell_type": "code",
   "execution_count": 16,
   "metadata": {},
   "outputs": [],
   "source": [
    "# load datasets\n",
    "DATA_PATH = './data/stl-10'\n",
    "\n",
    "class DataModule(pl.LightningDataModule):\n",
    "    def __init__(self, data_path=DATA_PATH):\n",
    "        super().__init__()\n",
    "        self.data_path = data_path\n",
    "\n",
    "    def prepare_data(self):\n",
    "        datasets.STL10(self.data_path, split='train', download=True)\n",
    "        datasets.STL10(self.data_path, split='test', download=True)\n",
    "\n",
    "        self.data_transform = transforms.Compose([\n",
    "            transforms.Resize((227, 227)),\n",
    "            transforms.ToTensor()])\n",
    "        return\n",
    "    \n",
    "    def setup(self, stage=None):\n",
    "        train = datasets.STL10(DATA_PATH, split='train', download=True, transform=self.data_transform)\n",
    "        self.test = datasets.STL10(DATA_PATH, split='test', download=True, transform=self.data_transform)\n",
    "\n",
    "        self.train, self.valid = random_split(train, lengths=[4000, 1000])\n",
    "\n",
    "    def train_dataloader(self):\n",
    "        return DataLoader(self.train, batch_size=32)\n",
    "    \n",
    "    def val_dataloader(self):\n",
    "        return DataLoader(self.valid, batch_size=32)\n",
    "    \n",
    "torch.manual_seed(0)\n",
    "data_module = DataModule()"
   ]
  },
  {
   "cell_type": "code",
   "execution_count": 17,
   "metadata": {},
   "outputs": [],
   "source": [
    "class AlexNet(nn.Module):\n",
    "    def __init__(self, num_classes=10):\n",
    "        super(AlexNet, self).__init__()\n",
    "        # input_size = (batch_size x 3 x 227 x 227)\n",
    "\n",
    "        self.net = nn.Sequential(\n",
    "            nn.Conv2d(3, 96, kernel_size=11, stride=4, padding=0),\n",
    "            nn.ReLU(),\n",
    "            nn.LocalResponseNorm(size=5, alpha=0.0001, beta=0.75, k=2),\n",
    "            nn.MaxPool2d(kernel_size=3, stride=2),\n",
    "\n",
    "            nn.Conv2d(96, 256, kernel_size=5, stride=1, padding=2),\n",
    "            nn.ReLU(),\n",
    "            nn.LocalResponseNorm(size=5, alpha=0.0001, beta=0.75, k=2),\n",
    "            nn.MaxPool2d(kernel_size=3, stride=2),\n",
    "\n",
    "            nn.Conv2d(256, 384, kernel_size=3, stride=1, padding=1),\n",
    "            nn.ReLU(),\n",
    "\n",
    "            nn.Conv2d(384, 384, kernel_size=3, stride=1, padding=1),\n",
    "            nn.ReLU(),\n",
    "\n",
    "            nn.Conv2d(384, 256, kernel_size=3, stride=1, padding=1),\n",
    "            nn.ReLU(),\n",
    "            nn.MaxPool2d(3, 2)\n",
    "        )\n",
    "\n",
    "        self.classifier = nn.Sequential(\n",
    "            nn.Dropout(p=0.5, inplace=False),\n",
    "            nn.Linear(in_features=(256*6*6), out_features=4096),\n",
    "            nn.ReLU(),\n",
    "            nn.Dropout(p=0.5, inplace=False),\n",
    "            nn.Linear(in_features=4096, out_features=4096),\n",
    "            nn.ReLU(),\n",
    "            nn.Linear(in_features=4096, out_features=num_classes)\n",
    "        )\n",
    "\n",
    "        self.init_weight()\n",
    "\n",
    "\n",
    "    def init_weight(self):\n",
    "        for layer in self.net:\n",
    "            if isinstance(layer, nn.Conv2d): # if layer==Conv\n",
    "                nn.init.normal_(layer.weight, mean=0, std=0.01) # then reset weights by N(0, 0.01) and bias=0\n",
    "                nn.init.constant_(layer.bias, 0)\n",
    "        nn.init.constant_(self.net[4].bias, 1)\n",
    "        nn.init.constant_(self.net[10].bias, 1)\n",
    "        nn.init.constant_(self.net[12].bias, 1)  # 5th, 11th, 13th layers' bias reset as 1\n",
    "\n",
    "    def forward(self, x):\n",
    "        x = self.net(x)\n",
    "        x = x.view(-1, 256 * 6 * 6)\n",
    "        x = self.classifier(x)\n",
    "        return x"
   ]
  },
  {
   "cell_type": "code",
   "execution_count": 18,
   "metadata": {},
   "outputs": [],
   "source": [
    "class LightningModel(pl.LightningModule):\n",
    "    def __init__(self, model, lr=0.001, num_classes=10):\n",
    "        super().__init__()\n",
    "\n",
    "        self.model = model\n",
    "        self.lr = lr\n",
    "        self.save_hyperparameters(ignore=['model'])\n",
    "        self.train_acc = torchmetrics.Accuracy(task = 'MULTICLASS', num_classes=num_classes)\n",
    "        self.val_acc = torchmetrics.Accuracy(task = 'MULTICLASS', num_classes=num_classes)\n",
    "        self.test_acc = torchmetrics.Accuracy(task = 'MULTICLASS', num_classes=num_classes)\n",
    "\n",
    "    def forward(self, x):\n",
    "        return self.model(x)\n",
    "    \n",
    "\n",
    "    def _shared_step(self, batch):\n",
    "        features, labels = batch\n",
    "        logits = self.model(features)\n",
    "        loss = F.cross_entropy(logits, labels)\n",
    "        predicted_labels = torch.argmax(logits, dim=1)\n",
    "        return loss, labels, predicted_labels\n",
    "    \n",
    "    def training_step(self, batch, batch_idx):\n",
    "        loss, labels, predicted_labels = self._shared_step(batch)\n",
    "        self.log('train_loss', loss)\n",
    "        self.model.eval()\n",
    "        with torch.no_grad():\n",
    "            _, labels, predicted_labels = self._shared_step(batch)\n",
    "        self.train_acc.update(predicted_labels, labels)\n",
    "        self.log('train_acc', self.train_acc, on_epoch=True, on_step=False)\n",
    "        self.model.train()\n",
    "        return loss\n",
    "    \n",
    "    def validation_step(self, batch, batch_idx):\n",
    "        loss, labels, predicted_labels = self._shared_step(batch)\n",
    "        self.log('val_loss', loss)\n",
    "        self.val_acc.update(predicted_labels, labels)\n",
    "        self.log('val_acc', self.val_acc, on_epoch=True, on_step=False, prog_bar=True)\n",
    "\n",
    "    def test_step(self, batch, batch_idx):\n",
    "        loss, labels, predicted_labels = self._shared_step(batch)\n",
    "        self.test_acc.update(predicted_labels, labels)\n",
    "        self.log('test_acc', self.test_acc, on_epoch=True, on_step=False)\n",
    "\n",
    "    def configure_optimizers(self):\n",
    "        optimizer = optim.Adam(self.model.parameters(), lr=self.lr)\n",
    "        scheduler = optim.lr_scheduler.StepLR(optimizer, step_size=30, gamma=0.1)\n",
    "        return [optimizer], [scheduler]"
   ]
  },
  {
   "cell_type": "code",
   "execution_count": 20,
   "metadata": {},
   "outputs": [
    {
     "name": "stderr",
     "output_type": "stream",
     "text": [
      "GPU available: True (mps), used: False\n",
      "TPU available: False, using: 0 TPU cores\n",
      "IPU available: False, using: 0 IPUs\n",
      "HPU available: False, using: 0 HPUs\n",
      "/Users/minkyunjung/miniforge3/envs/condavenv/lib/python3.10/site-packages/pytorch_lightning/trainer/setup.py:187: GPU available but not used. You can set it by doing `Trainer(accelerator='gpu')`.\n"
     ]
    },
    {
     "name": "stdout",
     "output_type": "stream",
     "text": [
      "Files already downloaded and verified\n",
      "Files already downloaded and verified\n",
      "Files already downloaded and verified\n"
     ]
    },
    {
     "name": "stderr",
     "output_type": "stream",
     "text": [
      "\n",
      "  | Name      | Type               | Params\n",
      "-------------------------------------------------\n",
      "0 | model     | AlexNet            | 58.3 M\n",
      "1 | train_acc | MulticlassAccuracy | 0     \n",
      "2 | val_acc   | MulticlassAccuracy | 0     \n",
      "3 | test_acc  | MulticlassAccuracy | 0     \n",
      "-------------------------------------------------\n",
      "58.3 M    Trainable params\n",
      "0         Non-trainable params\n",
      "58.3 M    Total params\n",
      "233.289   Total estimated model params size (MB)\n"
     ]
    },
    {
     "name": "stdout",
     "output_type": "stream",
     "text": [
      "Files already downloaded and verified\n",
      "                                                                           "
     ]
    },
    {
     "name": "stderr",
     "output_type": "stream",
     "text": [
      "/Users/minkyunjung/miniforge3/envs/condavenv/lib/python3.10/site-packages/pytorch_lightning/trainer/connectors/data_connector.py:441: The 'train_dataloader' does not have many workers which may be a bottleneck. Consider increasing the value of the `num_workers` argument` to `num_workers=7` in the `DataLoader` to improve performance.\n"
     ]
    },
    {
     "name": "stdout",
     "output_type": "stream",
     "text": [
      "Epoch 5:  84%|████████▍ | 105/125 [6:13:41<1:11:10,  0.00it/s, v_num=3, val_acc=0.093]Training time: 508.01 minutes in total\n"
     ]
    },
    {
     "name": "stderr",
     "output_type": "stream",
     "text": [
      "/Users/minkyunjung/miniforge3/envs/condavenv/lib/python3.10/site-packages/pytorch_lightning/trainer/call.py:54: Detected KeyboardInterrupt, attempting graceful shutdown...\n"
     ]
    }
   ],
   "source": [
    "model = AlexNet(num_classes=10)\n",
    "lightning_model = LightningModel(model, lr=0.001, num_classes=10)\n",
    "\n",
    "callbacks = [ModelCheckpoint(monitor='val_acc', mode='max'),]\n",
    "\n",
    "os.makedirs('./pl_models', exist_ok=True)\n",
    "logger = CSVLogger(save_dir='./pl_models', name='alexnet_logs')\n",
    "\n",
    "trainer = pl.Trainer(\n",
    "    max_epochs=10,\n",
    "    logger=logger,\n",
    "    callbacks=callbacks,\n",
    "    accelerator='cpu',\n",
    "    log_every_n_steps=5\n",
    ")\n",
    "\n",
    "start_time = time.time()\n",
    "trainer.fit(lightning_model, data_module)\n",
    "\n",
    "runtime = (time.time() - start_time) / 60\n",
    "print(f\"Training time: {runtime:.2f} minutes in total\")"
   ]
  },
  {
   "cell_type": "code",
   "execution_count": null,
   "metadata": {},
   "outputs": [],
   "source": [
    "metrics = pd.read_csv(f'{trainer.logger.log_dir}/metrics.csv')\n",
    "\n",
    "aggreg_metrics = []\n",
    "agg_col = 'epoch'\n",
    "\n",
    "for i, dfg in metrics.groupby(agg_col):\n",
    "    agg = dict(dfg.mean())\n",
    "    agg[agg_col] = i\n",
    "    aggreg_metrics.append(agg)\n",
    "\n",
    "df_metrics = pd.DataFrame(aggreg_metrics)\n",
    "df_metrics[['train_loss', 'val_loss']].plot(\n",
    "    grid=True, legend=True, xlabel='Epoch', ylabel='Loss')\n",
    "df_metrics[['train_acc', 'val_acc']].plot(\n",
    "    grid=True, legend=True, xlabel='Epoch', ylabel='Accuracy')\n",
    "\n",
    "plt.show()"
   ]
  },
  {
   "cell_type": "code",
   "execution_count": null,
   "metadata": {},
   "outputs": [],
   "source": []
  }
 ],
 "metadata": {
  "kernelspec": {
   "display_name": "condavenv",
   "language": "python",
   "name": "python3"
  },
  "language_info": {
   "codemirror_mode": {
    "name": "ipython",
    "version": 3
   },
   "file_extension": ".py",
   "mimetype": "text/x-python",
   "name": "python",
   "nbconvert_exporter": "python",
   "pygments_lexer": "ipython3",
   "version": "3.10.13"
  }
 },
 "nbformat": 4,
 "nbformat_minor": 2
}
